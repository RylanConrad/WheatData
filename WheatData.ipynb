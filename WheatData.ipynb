{
 "cells": [
  {
   "cell_type": "code",
   "execution_count": 69,
   "id": "modified-atlantic",
   "metadata": {},
   "outputs": [
    {
     "data": {
      "text/html": [
       "<div>\n",
       "<style scoped>\n",
       "    .dataframe tbody tr th:only-of-type {\n",
       "        vertical-align: middle;\n",
       "    }\n",
       "\n",
       "    .dataframe tbody tr th {\n",
       "        vertical-align: top;\n",
       "    }\n",
       "\n",
       "    .dataframe thead th {\n",
       "        text-align: right;\n",
       "    }\n",
       "</style>\n",
       "<table border=\"1\" class=\"dataframe\">\n",
       "  <thead>\n",
       "    <tr style=\"text-align: right;\">\n",
       "      <th></th>\n",
       "      <th>open</th>\n",
       "      <th>high</th>\n",
       "      <th>low</th>\n",
       "      <th>close</th>\n",
       "    </tr>\n",
       "    <tr>\n",
       "      <th>date</th>\n",
       "      <th></th>\n",
       "      <th></th>\n",
       "      <th></th>\n",
       "      <th></th>\n",
       "    </tr>\n",
       "  </thead>\n",
       "  <tbody>\n",
       "    <tr>\n",
       "      <th>2018-03-12</th>\n",
       "      <td>488.50</td>\n",
       "      <td>492.75</td>\n",
       "      <td>483.00</td>\n",
       "      <td>490.00</td>\n",
       "    </tr>\n",
       "    <tr>\n",
       "      <th>2018-03-09</th>\n",
       "      <td>499.25</td>\n",
       "      <td>499.25</td>\n",
       "      <td>486.00</td>\n",
       "      <td>490.25</td>\n",
       "    </tr>\n",
       "    <tr>\n",
       "      <th>2018-03-08</th>\n",
       "      <td>497.50</td>\n",
       "      <td>502.50</td>\n",
       "      <td>490.25</td>\n",
       "      <td>499.25</td>\n",
       "    </tr>\n",
       "    <tr>\n",
       "      <th>2018-03-07</th>\n",
       "      <td>506.00</td>\n",
       "      <td>509.75</td>\n",
       "      <td>496.00</td>\n",
       "      <td>497.50</td>\n",
       "    </tr>\n",
       "    <tr>\n",
       "      <th>2018-03-06</th>\n",
       "      <td>507.00</td>\n",
       "      <td>507.50</td>\n",
       "      <td>495.50</td>\n",
       "      <td>506.00</td>\n",
       "    </tr>\n",
       "    <tr>\n",
       "      <th>...</th>\n",
       "      <td>...</td>\n",
       "      <td>...</td>\n",
       "      <td>...</td>\n",
       "      <td>...</td>\n",
       "    </tr>\n",
       "    <tr>\n",
       "      <th>2009-10-19</th>\n",
       "      <td>497.50</td>\n",
       "      <td>522.63</td>\n",
       "      <td>497.50</td>\n",
       "      <td>517.50</td>\n",
       "    </tr>\n",
       "    <tr>\n",
       "      <th>2009-10-18</th>\n",
       "      <td>497.50</td>\n",
       "      <td>497.50</td>\n",
       "      <td>497.50</td>\n",
       "      <td>497.50</td>\n",
       "    </tr>\n",
       "    <tr>\n",
       "      <th>2009-10-16</th>\n",
       "      <td>505.38</td>\n",
       "      <td>506.63</td>\n",
       "      <td>495.63</td>\n",
       "      <td>497.75</td>\n",
       "    </tr>\n",
       "    <tr>\n",
       "      <th>2009-10-15</th>\n",
       "      <td>513.50</td>\n",
       "      <td>513.63</td>\n",
       "      <td>496.50</td>\n",
       "      <td>505.38</td>\n",
       "    </tr>\n",
       "    <tr>\n",
       "      <th>2009-10-14</th>\n",
       "      <td>512.88</td>\n",
       "      <td>528.50</td>\n",
       "      <td>505.13</td>\n",
       "      <td>513.50</td>\n",
       "    </tr>\n",
       "  </tbody>\n",
       "</table>\n",
       "<p>2272 rows × 4 columns</p>\n",
       "</div>"
      ],
      "text/plain": [
       "              open    high     low   close\n",
       "date                                      \n",
       "2018-03-12  488.50  492.75  483.00  490.00\n",
       "2018-03-09  499.25  499.25  486.00  490.25\n",
       "2018-03-08  497.50  502.50  490.25  499.25\n",
       "2018-03-07  506.00  509.75  496.00  497.50\n",
       "2018-03-06  507.00  507.50  495.50  506.00\n",
       "...            ...     ...     ...     ...\n",
       "2009-10-19  497.50  522.63  497.50  517.50\n",
       "2009-10-18  497.50  497.50  497.50  497.50\n",
       "2009-10-16  505.38  506.63  495.63  497.75\n",
       "2009-10-15  513.50  513.63  496.50  505.38\n",
       "2009-10-14  512.88  528.50  505.13  513.50\n",
       "\n",
       "[2272 rows x 4 columns]"
      ]
     },
     "execution_count": 69,
     "metadata": {},
     "output_type": "execute_result"
    }
   ],
   "source": [
    "import pandas as pd\n",
    "\n",
    "df = pd.read_csv(\"Documents/Datasets/archive/wheat_200910-201803.csv\", header= 0)\n",
    "df.head()\n",
    "df['date'] = pd.to_datetime(df['date'])\n",
    "df.set_index('date', inplace=True)\n",
    "#Raw data from October 2010 - March 2018\n",
    "df"
   ]
  },
  {
   "cell_type": "code",
   "execution_count": 70,
   "id": "painful-accounting",
   "metadata": {},
   "outputs": [
    {
     "data": {
      "text/plain": [
       "<AxesSubplot:xlabel='date'>"
      ]
     },
     "execution_count": 70,
     "metadata": {},
     "output_type": "execute_result"
    },
    {
     "data": {
      "image/png": "[encoded data removed]",
      "text/plain": [
       "<Figure size 432x288 with 1 Axes>"
      ]
     },
     "metadata": {
      "needs_background": "light"
     },
     "output_type": "display_data"
    }
   ],
   "source": [
    "#Visual display of the data.\n",
    "df['high'].plot()"
   ]
  },
  {
   "cell_type": "code",
   "execution_count": 71,
   "id": "married-poster",
   "metadata": {},
   "outputs": [
    {
     "data": {
      "text/plain": [
       "<AxesSubplot:xlabel='date'>"
      ]
     },
     "execution_count": 71,
     "metadata": {},
     "output_type": "execute_result"
    },
    {
     "data": {
      "image/png": "[encoded data removed]",
      "text/plain": [
       "<Figure size 432x288 with 1 Axes>"
      ]
     },
     "metadata": {
      "needs_background": "light"
     },
     "output_type": "display_data"
    }
   ],
   "source": [
    "#Getting rid of any extraneous values or NaNs\n",
    "df.dropna(inplace=True)\n",
    "#Cleaning up the graph\n",
    "df['high'].rolling(30).mean().plot()"
   ]
  },
  {
   "cell_type": "code",
   "execution_count": 82,
   "id": "broke-filling",
   "metadata": {},
   "outputs": [
    {
     "data": {
      "text/html": [
       "<div>\n",
       "<style scoped>\n",
       "    .dataframe tbody tr th:only-of-type {\n",
       "        vertical-align: middle;\n",
       "    }\n",
       "\n",
       "    .dataframe tbody tr th {\n",
       "        vertical-align: top;\n",
       "    }\n",
       "\n",
       "    .dataframe thead th {\n",
       "        text-align: right;\n",
       "    }\n",
       "</style>\n",
       "<table border=\"1\" class=\"dataframe\">\n",
       "  <thead>\n",
       "    <tr style=\"text-align: right;\">\n",
       "      <th></th>\n",
       "      <th>open</th>\n",
       "      <th>high</th>\n",
       "      <th>low</th>\n",
       "      <th>close</th>\n",
       "    </tr>\n",
       "    <tr>\n",
       "      <th>date</th>\n",
       "      <th></th>\n",
       "      <th></th>\n",
       "      <th></th>\n",
       "      <th></th>\n",
       "    </tr>\n",
       "  </thead>\n",
       "  <tbody>\n",
       "    <tr>\n",
       "      <th>2012-07-22</th>\n",
       "      <td>942.00</td>\n",
       "      <td>942.0</td>\n",
       "      <td>926.13</td>\n",
       "      <td>932.25</td>\n",
       "    </tr>\n",
       "    <tr>\n",
       "      <th>2012-07-20</th>\n",
       "      <td>932.75</td>\n",
       "      <td>944.5</td>\n",
       "      <td>917.00</td>\n",
       "      <td>943.88</td>\n",
       "    </tr>\n",
       "    <tr>\n",
       "      <th>2012-07-22</th>\n",
       "      <td>942.00</td>\n",
       "      <td>942.0</td>\n",
       "      <td>926.13</td>\n",
       "      <td>932.25</td>\n",
       "    </tr>\n",
       "    <tr>\n",
       "      <th>2012-07-20</th>\n",
       "      <td>932.75</td>\n",
       "      <td>944.5</td>\n",
       "      <td>917.00</td>\n",
       "      <td>943.88</td>\n",
       "    </tr>\n",
       "  </tbody>\n",
       "</table>\n",
       "</div>"
      ],
      "text/plain": [
       "              open   high     low   close\n",
       "date                                     \n",
       "2012-07-22  942.00  942.0  926.13  932.25\n",
       "2012-07-20  932.75  944.5  917.00  943.88\n",
       "2012-07-22  942.00  942.0  926.13  932.25\n",
       "2012-07-20  932.75  944.5  917.00  943.88"
      ]
     },
     "execution_count": 82,
     "metadata": {},
     "output_type": "execute_result"
    }
   ],
   "source": [
    "#Identifying the highest recorded values\n",
    "maximum = df.idxmax()\n",
    "df.loc[maximum]"
   ]
  },
  {
   "cell_type": "code",
   "execution_count": null,
   "id": "legislative-consensus",
   "metadata": {},
   "outputs": [],
   "source": []
  }
 ],
 "metadata": {
  "kernelspec": {
   "display_name": "Python 3",
   "language": "python",
   "name": "python3"
  },
  "language_info": {
   "codemirror_mode": {
    "name": "ipython",
    "version": 3
   },
   "file_extension": ".py",
   "mimetype": "text/x-python",
   "name": "python",
   "nbconvert_exporter": "python",
   "pygments_lexer": "ipython3",
   "version": "3.8.5"
  }
 },
 "nbformat": 4,
 "nbformat_minor": 5
}
